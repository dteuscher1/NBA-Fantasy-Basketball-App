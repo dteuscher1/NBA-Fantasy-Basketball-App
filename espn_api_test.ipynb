{
 "cells": [
  {
   "cell_type": "code",
   "execution_count": 1,
   "metadata": {},
   "outputs": [],
   "source": [
    "from espn_api.basketball import League"
   ]
  },
  {
   "cell_type": "code",
   "execution_count": 2,
   "metadata": {},
   "outputs": [],
   "source": [
    "league = League(\n",
    "    league_id=1433720380, \n",
    "    year=2022, \n",
    "    espn_s2='AECKqzPMaOLZK384RChOuaIh%2Fu1HEZ3D90XBqgyYL5TN4PhePMbILff0G0xv7%2BENpn7bMbK40zcXf56YjI4Xa80JTvMAFb%2Fn79fy6cu1tFMEmzYKNEnG8KlbH9OM1hf%2FkicowHtbrUdqzjSLCYq2ll1%2B%2FDBt8xRgC92c3pxL4O4uIkaHsrLlm1K8djHciL3kMMdva0XaOal6YByCcDfJytrxPoq7amw8t5Itt8YeZmFcAXHAIszMmnjJZNJxPhH%2F0uVR%2FGQP2ZRPSD08A3lUjDd%2BRcbIb7EuF5dDewhgY9U4tw%3D%3D', \n",
    "    swid='{BB5A4BBF-E87B-40A9-8E5A-B5C29AC5DE67}'\n",
    ")"
   ]
  },
  {
   "cell_type": "code",
   "execution_count": 4,
   "metadata": {},
   "outputs": [
    {
     "data": {
      "text/plain": [
       "[Team(Conjugate Priors),\n",
       " Team(Bernouli Ballers),\n",
       " Team(Neural Nets),\n",
       " Team(Provo MGFs),\n",
       " Team(Sacrament Kings),\n",
       " Team(ONTHA CAUCHY),\n",
       " Team(DeMorgan's Daggers),\n",
       " Team(Orem Octopi)]"
      ]
     },
     "execution_count": 4,
     "metadata": {},
     "output_type": "execute_result"
    }
   ],
   "source": [
    "league.teams"
   ]
  },
  {
   "cell_type": "code",
   "execution_count": 3,
   "metadata": {},
   "outputs": [],
   "source": [
    "team = league.teams[4]"
   ]
  },
  {
   "cell_type": "code",
   "execution_count": 6,
   "metadata": {},
   "outputs": [
    {
     "data": {
      "text/plain": [
       "[Player(Trae Young),\n",
       " Player(Fred VanVleet),\n",
       " Player(Deandre Ayton),\n",
       " Player(Miles Bridges),\n",
       " Player(Jonas Valanciunas),\n",
       " Player(Pascal Siakam),\n",
       " Player(Brandon Ingram),\n",
       " Player(Khris Middleton),\n",
       " Player(Jordan Poole),\n",
       " Player(Immanuel Quickley),\n",
       " Player(Obi Toppin),\n",
       " Player(Jaylen Hoard),\n",
       " Player(Ish Smith),\n",
       " Player(Isaiah Roby)]"
      ]
     },
     "execution_count": 6,
     "metadata": {},
     "output_type": "execute_result"
    }
   ],
   "source": [
    "team.roster"
   ]
  },
  {
   "cell_type": "code",
   "execution_count": 7,
   "metadata": {},
   "outputs": [
    {
     "data": {
      "text/plain": [
       "15"
      ]
     },
     "execution_count": 7,
     "metadata": {},
     "output_type": "execute_result"
    }
   ],
   "source": [
    "team.wins"
   ]
  },
  {
   "cell_type": "code",
   "execution_count": 8,
   "metadata": {},
   "outputs": [
    {
     "data": {
      "text/plain": [
       "5"
      ]
     },
     "execution_count": 8,
     "metadata": {},
     "output_type": "execute_result"
    }
   ],
   "source": [
    "team.losses"
   ]
  },
  {
   "cell_type": "code",
   "execution_count": 9,
   "metadata": {},
   "outputs": [
    {
     "data": {
      "text/plain": [
       "2"
      ]
     },
     "execution_count": 9,
     "metadata": {},
     "output_type": "execute_result"
    }
   ],
   "source": [
    "team.final_standing"
   ]
  },
  {
   "cell_type": "code",
   "execution_count": 10,
   "metadata": {},
   "outputs": [
    {
     "data": {
      "text/plain": [
       "'Sacrament Kings'"
      ]
     },
     "execution_count": 10,
     "metadata": {},
     "output_type": "execute_result"
    }
   ],
   "source": [
    "team.team_name"
   ]
  },
  {
   "cell_type": "code",
   "execution_count": 4,
   "metadata": {},
   "outputs": [],
   "source": [
    "player = team.roster[1]"
   ]
  },
  {
   "cell_type": "code",
   "execution_count": 12,
   "metadata": {},
   "outputs": [
    {
     "data": {
      "text/plain": [
       "Player(Fred VanVleet)"
      ]
     },
     "execution_count": 12,
     "metadata": {},
     "output_type": "execute_result"
    }
   ],
   "source": [
    "player"
   ]
  },
  {
   "cell_type": "code",
   "execution_count": 13,
   "metadata": {},
   "outputs": [
    {
     "data": {
      "text/plain": [
       "'Fred VanVleet'"
      ]
     },
     "execution_count": 13,
     "metadata": {},
     "output_type": "execute_result"
    }
   ],
   "source": [
    "player.name"
   ]
  },
  {
   "cell_type": "code",
   "execution_count": 8,
   "metadata": {},
   "outputs": [
    {
     "data": {
      "text/plain": [
       "{'2022_last_15': {'applied_total': 201.0,\n",
       "  'applied_avg': 40.2,\n",
       "  'avg': {'PTS': 17.2,\n",
       "   'BLK': 1.0,\n",
       "   'STL': 3.4,\n",
       "   'AST': 6.0,\n",
       "   'OREB': 0.2,\n",
       "   'DREB': 3.0,\n",
       "   'REB': 3.2,\n",
       "   'PF': 3.0,\n",
       "   'TO': 3.2,\n",
       "   'FGM': 5.4,\n",
       "   'FGA': 17.0,\n",
       "   'FTM': 3.2,\n",
       "   'FTA': 3.6,\n",
       "   '3PTM': 3.2,\n",
       "   '3PTA': 11.0,\n",
       "   'FG%': 0.31764706,\n",
       "   'FT%': 0.88888889,\n",
       "   '3PT%': 0.29090909,\n",
       "   'MPG': 37.6,\n",
       "   'MIN': 37.6,\n",
       "   'GS': 1.0,\n",
       "   'GP': 5.0},\n",
       "  'total': {'PTS': 86.0,\n",
       "   'BLK': 5.0,\n",
       "   'STL': 17.0,\n",
       "   'AST': 30.0,\n",
       "   'OREB': 1.0,\n",
       "   'DREB': 15.0,\n",
       "   'REB': 16.0,\n",
       "   'PF': 15.0,\n",
       "   'TO': 16.0,\n",
       "   'FGM': 27.0,\n",
       "   'FGA': 85.0,\n",
       "   'FTM': 16.0,\n",
       "   'FTA': 18.0,\n",
       "   '3PTM': 16.0,\n",
       "   '3PTA': 55.0,\n",
       "   'FG%': 0.31764706,\n",
       "   'FT%': 0.88888889,\n",
       "   '3PT%': 0.29090909,\n",
       "   'MPG': 37.6,\n",
       "   'MIN': 188.0,\n",
       "   'GS': 5.0,\n",
       "   'GP': 5.0}},\n",
       " '2022_last_7': {'applied_total': 22.0,\n",
       "  'applied_avg': 22.0,\n",
       "  'avg': {'PTS': 12.0,\n",
       "   'BLK': 1.0,\n",
       "   'STL': 1.0,\n",
       "   'AST': 9.0,\n",
       "   'OREB': 0.0,\n",
       "   'DREB': 2.0,\n",
       "   'REB': 2.0,\n",
       "   'PF': 4.0,\n",
       "   'TO': 3.0,\n",
       "   'FGM': 4.0,\n",
       "   'FGA': 21.0,\n",
       "   'FTM': 2.0,\n",
       "   'FTA': 3.0,\n",
       "   '3PTM': 2.0,\n",
       "   '3PTA': 12.0,\n",
       "   'FG%': 0.19047619,\n",
       "   'FT%': 0.66666667,\n",
       "   '3PT%': 0.16666667,\n",
       "   'MPG': 36.0,\n",
       "   'MIN': 36.0,\n",
       "   'GS': 1.0,\n",
       "   'GP': 1.0},\n",
       "  'total': {'PTS': 12.0,\n",
       "   'BLK': 1.0,\n",
       "   'STL': 1.0,\n",
       "   'AST': 9.0,\n",
       "   'OREB': 0.0,\n",
       "   'DREB': 2.0,\n",
       "   'REB': 2.0,\n",
       "   'PF': 4.0,\n",
       "   'TO': 3.0,\n",
       "   'FGM': 4.0,\n",
       "   'FGA': 21.0,\n",
       "   'FTM': 2.0,\n",
       "   'FTA': 3.0,\n",
       "   '3PTM': 2.0,\n",
       "   '3PTA': 12.0,\n",
       "   'FG%': 0.19047619,\n",
       "   'FT%': 0.66666667,\n",
       "   '3PT%': 0.16666667,\n",
       "   'MPG': 36.0,\n",
       "   'MIN': 36.0,\n",
       "   'GS': 1.0,\n",
       "   'GP': 1.0}},\n",
       " '2022': {'applied_total': 2722.0,\n",
       "  'applied_avg': 41.88,\n",
       "  'avg': {'PTS': 20.307692307692307,\n",
       "   'BLK': 0.5384615384615384,\n",
       "   'STL': 1.7076923076923076,\n",
       "   'AST': 6.676923076923077,\n",
       "   'OREB': 0.676923076923077,\n",
       "   'DREB': 3.769230769230769,\n",
       "   'REB': 4.446153846153846,\n",
       "   'PF': 2.4923076923076923,\n",
       "   'TO': 2.6153846153846154,\n",
       "   'FGM': 6.8,\n",
       "   'FGA': 16.876923076923077,\n",
       "   'FTM': 2.9846153846153847,\n",
       "   'FTA': 3.4153846153846152,\n",
       "   '3PTM': 3.723076923076923,\n",
       "   '3PTA': 9.876923076923077,\n",
       "   'FG%': 0.40291705,\n",
       "   'FT%': 0.87387387,\n",
       "   '3PT%': 0.37694704,\n",
       "   'MPG': 37.87692308,\n",
       "   'MIN': 37.87692307692308,\n",
       "   'GS': 1.0,\n",
       "   'GP': 65.0},\n",
       "  'total': {'PTS': 1320.0,\n",
       "   'BLK': 35.0,\n",
       "   'STL': 111.0,\n",
       "   'AST': 434.0,\n",
       "   'OREB': 44.0,\n",
       "   'DREB': 245.0,\n",
       "   'REB': 289.0,\n",
       "   'PF': 162.0,\n",
       "   'TO': 170.0,\n",
       "   'FGM': 442.0,\n",
       "   'FGA': 1097.0,\n",
       "   'FTM': 194.0,\n",
       "   'FTA': 222.0,\n",
       "   '3PTM': 242.0,\n",
       "   '3PTA': 642.0,\n",
       "   'FG%': 0.40291705,\n",
       "   'FT%': 0.87387387,\n",
       "   '3PT%': 0.37694704,\n",
       "   'MPG': 37.87692308,\n",
       "   'MIN': 2462.0,\n",
       "   'GS': 65.0,\n",
       "   'GP': 65.0}},\n",
       " '2022_last_30': {'applied_total': 401.0,\n",
       "  'applied_avg': 36.45,\n",
       "  'avg': {'PTS': 15.636363636363637,\n",
       "   'BLK': 0.6363636363636364,\n",
       "   'STL': 2.3636363636363638,\n",
       "   'AST': 6.090909090909091,\n",
       "   'OREB': 0.45454545454545453,\n",
       "   'DREB': 3.272727272727273,\n",
       "   'REB': 3.727272727272727,\n",
       "   'PF': 2.909090909090909,\n",
       "   'TO': 2.1818181818181817,\n",
       "   'FGM': 5.2727272727272725,\n",
       "   'FGA': 15.454545454545455,\n",
       "   'FTM': 2.4545454545454546,\n",
       "   'FTA': 2.909090909090909,\n",
       "   '3PTM': 2.6363636363636362,\n",
       "   '3PTA': 9.454545454545455,\n",
       "   'FG%': 0.34117647,\n",
       "   'FT%': 0.84375,\n",
       "   '3PT%': 0.27884615,\n",
       "   'MPG': 36.72727273,\n",
       "   'MIN': 36.72727272727273,\n",
       "   'GS': 1.0,\n",
       "   'GP': 11.0},\n",
       "  'total': {'PTS': 172.0,\n",
       "   'BLK': 7.0,\n",
       "   'STL': 26.0,\n",
       "   'AST': 67.0,\n",
       "   'OREB': 5.0,\n",
       "   'DREB': 36.0,\n",
       "   'REB': 41.0,\n",
       "   'PF': 32.0,\n",
       "   'TO': 24.0,\n",
       "   'FGM': 58.0,\n",
       "   'FGA': 170.0,\n",
       "   'FTM': 27.0,\n",
       "   'FTA': 32.0,\n",
       "   '3PTM': 29.0,\n",
       "   '3PTA': 104.0,\n",
       "   'FG%': 0.34117647,\n",
       "   'FT%': 0.84375,\n",
       "   '3PT%': 0.27884615,\n",
       "   'MPG': 36.72727273,\n",
       "   'MIN': 404.0,\n",
       "   'GS': 11.0,\n",
       "   'GP': 11.0}},\n",
       " '2022_projected': {'applied_total': 3338.0,\n",
       "  'applied_avg': 45.11,\n",
       "  'avg': {'PTS': 21.35135135135135,\n",
       "   'BLK': 0.7027027027027027,\n",
       "   'STL': 1.7027027027027026,\n",
       "   'AST': 7.297297297297297,\n",
       "   'REB': 4.202702702702703,\n",
       "   'TO': 1.9054054054054055,\n",
       "   'FGM': 7.0,\n",
       "   'FGA': 17.905405405405407,\n",
       "   'FTM': 3.7837837837837838,\n",
       "   'FTA': 4.297297297297297,\n",
       "   '3PTM': 3.5675675675675675,\n",
       "   '3PTA': 9.702702702702704,\n",
       "   'FG%': 0.391,\n",
       "   'FT%': 0.88,\n",
       "   '3PT%': 0.368,\n",
       "   'MPG': 36.9,\n",
       "   'MIN': 36.9,\n",
       "   'GP': 74.0},\n",
       "  'total': {'PTS': 1580.0,\n",
       "   'BLK': 52.0,\n",
       "   'STL': 126.0,\n",
       "   'AST': 540.0,\n",
       "   'REB': 311.0,\n",
       "   'TO': 141.0,\n",
       "   'FGM': 518.0,\n",
       "   'FGA': 1325.0,\n",
       "   'FTM': 280.0,\n",
       "   'FTA': 318.0,\n",
       "   '3PTM': 264.0,\n",
       "   '3PTA': 718.0,\n",
       "   'FG%': 0.391,\n",
       "   'FT%': 0.88,\n",
       "   '3PT%': 0.368,\n",
       "   'MPG': 36.9,\n",
       "   'MIN': 2730.6,\n",
       "   'GP': 74.0}}}"
      ]
     },
     "execution_count": 8,
     "metadata": {},
     "output_type": "execute_result"
    }
   ],
   "source": [
    "player.stats"
   ]
  },
  {
   "cell_type": "code",
   "execution_count": 14,
   "metadata": {},
   "outputs": [
    {
     "data": {
      "text/plain": [
       "2991230"
      ]
     },
     "execution_count": 14,
     "metadata": {},
     "output_type": "execute_result"
    }
   ],
   "source": [
    "player.playerId"
   ]
  },
  {
   "cell_type": "code",
   "execution_count": 15,
   "metadata": {},
   "outputs": [
    {
     "data": {
      "text/plain": [
       "'SG'"
      ]
     },
     "execution_count": 15,
     "metadata": {},
     "output_type": "execute_result"
    }
   ],
   "source": [
    "player.position"
   ]
  },
  {
   "cell_type": "code",
   "execution_count": 16,
   "metadata": {},
   "outputs": [
    {
     "data": {
      "text/plain": [
       "'TOR'"
      ]
     },
     "execution_count": 16,
     "metadata": {},
     "output_type": "execute_result"
    }
   ],
   "source": [
    "player.proTeam"
   ]
  },
  {
   "cell_type": "code",
   "execution_count": 17,
   "metadata": {},
   "outputs": [
    {
     "data": {
      "text/plain": [
       "['SG', 'G', 'SG/SF', 'G/F', 'UT', 'BE', 'IR', 'PG']"
      ]
     },
     "execution_count": 17,
     "metadata": {},
     "output_type": "execute_result"
    }
   ],
   "source": [
    "player.eligibleSlots"
   ]
  },
  {
   "cell_type": "code",
   "execution_count": 18,
   "metadata": {},
   "outputs": [
    {
     "data": {
      "text/plain": [
       "'DRAFT'"
      ]
     },
     "execution_count": 18,
     "metadata": {},
     "output_type": "execute_result"
    }
   ],
   "source": [
    "player.acquisitionType"
   ]
  },
  {
   "cell_type": "code",
   "execution_count": 19,
   "metadata": {},
   "outputs": [
    {
     "data": {
      "text/plain": [
       "[Player(Giannis Antetokounmpo),\n",
       " Player(Nikola Vucevic),\n",
       " Player(Anthony Davis),\n",
       " Player(D'Angelo Russell),\n",
       " Player(Jakob Poeltl),\n",
       " Player(Domantas Sabonis),\n",
       " Player(RJ Barrett),\n",
       " Player(Derrick White),\n",
       " Player(Shai Gilgeous-Alexander),\n",
       " Player(Lonzo Ball)]"
      ]
     },
     "execution_count": 19,
     "metadata": {},
     "output_type": "execute_result"
    }
   ],
   "source": [
    "league.free_agents(size=10)"
   ]
  },
  {
   "cell_type": "code",
   "execution_count": 20,
   "metadata": {},
   "outputs": [
    {
     "data": {
      "text/plain": [
       "[Player(Giannis Antetokounmpo),\n",
       " Player(Anthony Davis),\n",
       " Player(Domantas Sabonis),\n",
       " Player(Bobby Portis),\n",
       " Player(Kyle Kuzma)]"
      ]
     },
     "execution_count": 20,
     "metadata": {},
     "output_type": "execute_result"
    }
   ],
   "source": [
    "league.free_agents(size=5,position='PF')"
   ]
  },
  {
   "cell_type": "code",
   "execution_count": 21,
   "metadata": {},
   "outputs": [
    {
     "data": {
      "text/plain": [
       "[Player(Giannis Antetokounmpo),\n",
       " Player(Nikola Vucevic),\n",
       " Player(Anthony Davis),\n",
       " Player(D'Angelo Russell),\n",
       " Player(Jakob Poeltl),\n",
       " Player(Domantas Sabonis),\n",
       " Player(RJ Barrett),\n",
       " Player(Derrick White),\n",
       " Player(Shai Gilgeous-Alexander),\n",
       " Player(Lonzo Ball),\n",
       " Player(Bobby Portis),\n",
       " Player(Reggie Jackson),\n",
       " Player(Malcolm Brogdon),\n",
       " Player(Kyle Kuzma),\n",
       " Player(Robert Williams III),\n",
       " Player(P.J. Washington),\n",
       " Player(Jarrett Allen),\n",
       " Player(John Collins),\n",
       " Player(Devonte' Graham),\n",
       " Player(Ivica Zubac),\n",
       " Player(Ben Simmons),\n",
       " Player(Bradley Beal),\n",
       " Player(Robert Covington),\n",
       " Player(Isaiah Stewart),\n",
       " Player(Will Barton),\n",
       " Player(Mo Bamba),\n",
       " Player(Chris Boucher),\n",
       " Player(Bojan Bogdanovic),\n",
       " Player(Evan Fournier),\n",
       " Player(Kelly Oubre Jr.),\n",
       " Player(Jalen Suggs),\n",
       " Player(Nickeil Alexander-Walker),\n",
       " Player(Kemba Walker),\n",
       " Player(Richaun Holmes),\n",
       " Player(Lauri Markkanen),\n",
       " Player(Michael Porter Jr.),\n",
       " Player(Eric Bledsoe),\n",
       " Player(Marvin Bagley III),\n",
       " Player(Tim Hardaway Jr.),\n",
       " Player(Collin Sexton),\n",
       " Player(Thaddeus Young),\n",
       " Player(Brook Lopez),\n",
       " Player(Donte DiVincenzo),\n",
       " Player(Brandon Clarke),\n",
       " Player(Killian Hayes),\n",
       " Player(Daniel Theis),\n",
       " Player(Joe Ingles),\n",
       " Player(Jonathan Isaac),\n",
       " Player(Drew Eubanks),\n",
       " Player(Dillon Brooks)]"
      ]
     },
     "execution_count": 21,
     "metadata": {},
     "output_type": "execute_result"
    }
   ],
   "source": [
    "league.free_agents()"
   ]
  },
  {
   "cell_type": "code",
   "execution_count": 5,
   "metadata": {},
   "outputs": [],
   "source": [
    "box = league.box_scores() "
   ]
  },
  {
   "cell_type": "code",
   "execution_count": 30,
   "metadata": {},
   "outputs": [
    {
     "data": {
      "text/plain": [
       "Team(Sacrament Kings)"
      ]
     },
     "execution_count": 30,
     "metadata": {},
     "output_type": "execute_result"
    }
   ],
   "source": [
    "box[0].home_team"
   ]
  },
  {
   "cell_type": "code",
   "execution_count": 31,
   "metadata": {},
   "outputs": [
    {
     "data": {
      "text/plain": [
       "Team(ONTHA CAUCHY)"
      ]
     },
     "execution_count": 31,
     "metadata": {},
     "output_type": "execute_result"
    }
   ],
   "source": [
    "box[0].away_team"
   ]
  },
  {
   "cell_type": "code",
   "execution_count": 32,
   "metadata": {},
   "outputs": [
    {
     "data": {
      "text/plain": [
       "2887.0"
      ]
     },
     "execution_count": 32,
     "metadata": {},
     "output_type": "execute_result"
    }
   ],
   "source": [
    "box[0].home_score"
   ]
  },
  {
   "cell_type": "code",
   "execution_count": 33,
   "metadata": {},
   "outputs": [
    {
     "data": {
      "text/plain": [
       "2924.0"
      ]
     },
     "execution_count": 33,
     "metadata": {},
     "output_type": "execute_result"
    }
   ],
   "source": [
    "box[0].away_score "
   ]
  },
  {
   "cell_type": "code",
   "execution_count": 6,
   "metadata": {},
   "outputs": [
    {
     "data": {
      "text/plain": [
       "[Player(Damian Jones, points:22.0),\n",
       " Player(Brandon Ingram, points:134.0),\n",
       " Player(Jordan Poole, points:227.0),\n",
       " Player(Isaiah Roby, points:43.0),\n",
       " Player(Tyus Jones, points:19.0),\n",
       " Player(Jaylen Hoard, points:60.0),\n",
       " Player(Jonas Valanciunas, points:132.0),\n",
       " Player(Immanuel Quickley, points:57.0),\n",
       " Player(Deandre Ayton, points:84.0),\n",
       " Player(Trae Young, points:364.0),\n",
       " Player(Ish Smith, points:19.0),\n",
       " Player(Khris Middleton, points:226.0),\n",
       " Player(Miles Bridges, points:227.0),\n",
       " Player(Obi Toppin, points:57.0),\n",
       " Player(Jakob Poeltl, points:176.0),\n",
       " Player(Fred VanVleet, points:201.0),\n",
       " Player(Anthony Davis, points:151.0),\n",
       " Player(Bruce Brown, points:77.0),\n",
       " Player(Pascal Siakam, points:394.0),\n",
       " Player(De'Anthony Melton, points:29.0),\n",
       " Player(Kevin Huerter, points:42.0),\n",
       " Player(Alec Burks, points:16.0),\n",
       " Player(Marcus Smart, points:130.0)]"
      ]
     },
     "execution_count": 6,
     "metadata": {},
     "output_type": "execute_result"
    }
   ],
   "source": [
    "box[0].home_lineup"
   ]
  },
  {
   "cell_type": "code",
   "execution_count": 7,
   "metadata": {},
   "outputs": [
    {
     "data": {
      "text/plain": [
       "Player(Damian Jones, points:22.0)"
      ]
     },
     "execution_count": 7,
     "metadata": {},
     "output_type": "execute_result"
    }
   ],
   "source": [
    "box[0].home_lineup[]"
   ]
  },
  {
   "cell_type": "code",
   "execution_count": 36,
   "metadata": {},
   "outputs": [
    {
     "data": {
      "text/plain": [
       "[Player(Damian Jones, points:42.0),\n",
       " Player(Davion Mitchell, points:183.0),\n",
       " Player(D'Angelo Russell, points:94.0),\n",
       " Player(Tobias Harris, points:175.0),\n",
       " Player(Keldon Johnson, points:204.0),\n",
       " Player(Isaiah Jackson, points:19.0),\n",
       " Player(Tre Jones, points:26.0),\n",
       " Player(Kyrie Irving, points:327.0),\n",
       " Player(Nikola Vucevic, points:196.0),\n",
       " Player(Donovan Mitchell, points:189.0),\n",
       " Player(Dejounte Murray, points:161.0),\n",
       " Player(Saddiq Bey, points:134.0),\n",
       " Player(LaMelo Ball, points:332.0),\n",
       " Player(Drew Eubanks, points:166.0),\n",
       " Player(Kevin Porter Jr., points:335.0),\n",
       " Player(Giannis Antetokounmpo, points:341.0)]"
      ]
     },
     "execution_count": 36,
     "metadata": {},
     "output_type": "execute_result"
    }
   ],
   "source": [
    "box[0].away_lineup"
   ]
  },
  {
   "cell_type": "code",
   "execution_count": 38,
   "metadata": {},
   "outputs": [
    {
     "data": {
      "text/plain": [
       "22.0"
      ]
     },
     "execution_count": 38,
     "metadata": {},
     "output_type": "execute_result"
    }
   ],
   "source": [
    "box[0].home_lineup[0].points "
   ]
  },
  {
   "cell_type": "code",
   "execution_count": 39,
   "metadata": {},
   "outputs": [
    {
     "data": {
      "text/plain": [
       "{'FTA': -8.0,\n",
       " 'PTS': 17.0,\n",
       " '3PTM': 0.0,\n",
       " 'BLK': 0.0,\n",
       " 'STL': 0.0,\n",
       " 'AST': 4.0,\n",
       " 'REB': 6.0,\n",
       " 'TO': -4.0,\n",
       " 'FGM': 10.0,\n",
       " 'FGA': -10.0,\n",
       " 'FTM': 7.0}"
      ]
     },
     "execution_count": 39,
     "metadata": {},
     "output_type": "execute_result"
    }
   ],
   "source": [
    "box[0].home_lineup[0].points_breakdown"
   ]
  },
  {
   "cell_type": "code",
   "execution_count": 40,
   "metadata": {},
   "outputs": [
    {
     "data": {
      "text/plain": [
       "'PG'"
      ]
     },
     "execution_count": 40,
     "metadata": {},
     "output_type": "execute_result"
    }
   ],
   "source": [
    "box[0].home_lineup[0].slot_position "
   ]
  },
  {
   "cell_type": "code",
   "execution_count": 41,
   "metadata": {},
   "outputs": [
    {
     "data": {
      "text/plain": [
       "'Damian Jones'"
      ]
     },
     "execution_count": 41,
     "metadata": {},
     "output_type": "execute_result"
    }
   ],
   "source": [
    "box[0].home_lineup[0].name"
   ]
  },
  {
   "cell_type": "code",
   "execution_count": 4,
   "metadata": {},
   "outputs": [
    {
     "data": {
      "text/plain": [
       "[Matchup(Team(Sacrament Kings), Team(ONTHA CAUCHY)),\n",
       " Matchup(Team(DeMorgan's Daggers), Team(Neural Nets)),\n",
       " Matchup(Team(Orem Octopi), Team(Bernouli Ballers)),\n",
       " Matchup(Team(Conjugate Priors), Team(Provo MGFs))]"
      ]
     },
     "execution_count": 4,
     "metadata": {},
     "output_type": "execute_result"
    }
   ],
   "source": [
    "league.scoreboard()"
   ]
  },
  {
   "cell_type": "code",
   "execution_count": 5,
   "metadata": {},
   "outputs": [],
   "source": [
    "week = 3\n",
    "matchups = league.scoreboard(week)"
   ]
  },
  {
   "cell_type": "code",
   "execution_count": 9,
   "metadata": {},
   "outputs": [
    {
     "data": {
      "text/plain": [
       "1517.0"
      ]
     },
     "execution_count": 9,
     "metadata": {},
     "output_type": "execute_result"
    }
   ],
   "source": [
    "matchups[0].home_final_score"
   ]
  },
  {
   "cell_type": "code",
   "execution_count": null,
   "metadata": {},
   "outputs": [],
   "source": [
    "matchups[0].away_final_score"
   ]
  },
  {
   "cell_type": "code",
   "execution_count": 13,
   "metadata": {},
   "outputs": [
    {
     "data": {
      "text/plain": [
       "Team(Sacrament Kings)"
      ]
     },
     "execution_count": 13,
     "metadata": {},
     "output_type": "execute_result"
    }
   ],
   "source": [
    "matchups[0].home_team"
   ]
  },
  {
   "cell_type": "code",
   "execution_count": 14,
   "metadata": {},
   "outputs": [
    {
     "data": {
      "text/plain": [
       "Team(Conjugate Priors)"
      ]
     },
     "execution_count": 14,
     "metadata": {},
     "output_type": "execute_result"
    }
   ],
   "source": [
    "matchups[0].away_team"
   ]
  },
  {
   "cell_type": "code",
   "execution_count": 12,
   "metadata": {},
   "outputs": [
    {
     "data": {
      "text/plain": [
       "{'PTS': {'score': 779.0, 'result': None},\n",
       " 'FTA': {'score': 160.0, 'result': None},\n",
       " 'BLK': {'score': 27.0, 'result': None},\n",
       " '3PTM': {'score': 73.0, 'result': None},\n",
       " 'STL': {'score': 41.0, 'result': None},\n",
       " 'AST': {'score': 203.0, 'result': None},\n",
       " 'REB': {'score': 309.0, 'result': None},\n",
       " 'GP': {'score': 41.0, 'result': None},\n",
       " 'TO': {'score': 108.0, 'result': None},\n",
       " 'FGM': {'score': 285.0, 'result': None},\n",
       " 'FGA': {'score': 652.0, 'result': None},\n",
       " 'FTM': {'score': 136.0, 'result': None}}"
      ]
     },
     "execution_count": 12,
     "metadata": {},
     "output_type": "execute_result"
    }
   ],
   "source": [
    "matchups[0].home_team_cats"
   ]
  },
  {
   "cell_type": "code",
   "execution_count": 15,
   "metadata": {},
   "outputs": [
    {
     "data": {
      "text/plain": [
       "{'PTS': {'score': 631.0, 'result': None},\n",
       " 'FTA': {'score': 110.0, 'result': None},\n",
       " 'BLK': {'score': 28.0, 'result': None},\n",
       " '3PTM': {'score': 63.0, 'result': None},\n",
       " 'STL': {'score': 47.0, 'result': None},\n",
       " 'AST': {'score': 155.0, 'result': None},\n",
       " 'REB': {'score': 247.0, 'result': None},\n",
       " 'GP': {'score': 38.0, 'result': None},\n",
       " 'TO': {'score': 75.0, 'result': None},\n",
       " 'FGM': {'score': 245.0, 'result': None},\n",
       " 'FGA': {'score': 547.0, 'result': None},\n",
       " 'FTM': {'score': 78.0, 'result': None}}"
      ]
     },
     "execution_count": 15,
     "metadata": {},
     "output_type": "execute_result"
    }
   ],
   "source": [
    "matchups[0].away_team_cats"
   ]
  },
  {
   "cell_type": "code",
   "execution_count": null,
   "metadata": {},
   "outputs": [],
   "source": []
  }
 ],
 "metadata": {
  "kernelspec": {
   "display_name": "Python 3 (ipykernel)",
   "language": "python",
   "name": "python3"
  },
  "language_info": {
   "codemirror_mode": {
    "name": "ipython",
    "version": 3
   },
   "file_extension": ".py",
   "mimetype": "text/x-python",
   "name": "python",
   "nbconvert_exporter": "python",
   "pygments_lexer": "ipython3",
   "version": "3.10.8"
  },
  "varInspector": {
   "cols": {
    "lenName": 16,
    "lenType": 16,
    "lenVar": 40
   },
   "kernels_config": {
    "python": {
     "delete_cmd_postfix": "",
     "delete_cmd_prefix": "del ",
     "library": "var_list.py",
     "varRefreshCmd": "print(var_dic_list())"
    },
    "r": {
     "delete_cmd_postfix": ") ",
     "delete_cmd_prefix": "rm(",
     "library": "var_list.r",
     "varRefreshCmd": "cat(var_dic_list()) "
    }
   },
   "types_to_exclude": [
    "module",
    "function",
    "builtin_function_or_method",
    "instance",
    "_Feature"
   ],
   "window_display": false
  },
  "vscode": {
   "interpreter": {
    "hash": "aee8b7b246df8f9039afb4144a1f6fd8d2ca17a180786b69acc140d282b71a49"
   }
  }
 },
 "nbformat": 4,
 "nbformat_minor": 2
}
