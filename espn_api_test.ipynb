{
 "cells": [
  {
   "cell_type": "code",
   "execution_count": 2,
   "metadata": {},
   "outputs": [],
   "source": [
    "from espn_api.basketball import League"
   ]
  },
  {
   "cell_type": "code",
   "execution_count": 3,
   "metadata": {},
   "outputs": [],
   "source": [
    "league = League(\n",
    "    league_id=1433720380, \n",
    "    year=2022, \n",
    "    espn_s2='AECKqzPMaOLZK384RChOuaIh%2Fu1HEZ3D90XBqgyYL5TN4PhePMbILff0G0xv7%2BENpn7bMbK40zcXf56YjI4Xa80JTvMAFb%2Fn79fy6cu1tFMEmzYKNEnG8KlbH9OM1hf%2FkicowHtbrUdqzjSLCYq2ll1%2B%2FDBt8xRgC92c3pxL4O4uIkaHsrLlm1K8djHciL3kMMdva0XaOal6YByCcDfJytrxPoq7amw8t5Itt8YeZmFcAXHAIszMmnjJZNJxPhH%2F0uVR%2FGQP2ZRPSD08A3lUjDd%2BRcbIb7EuF5dDewhgY9U4tw%3D%3D', \n",
    "    swid='{BB5A4BBF-E87B-40A9-8E5A-B5C29AC5DE67}'\n",
    ")"
   ]
  },
  {
   "cell_type": "code",
   "execution_count": 4,
   "metadata": {},
   "outputs": [
    {
     "data": {
      "text/plain": [
       "[Team(Conjugate Priors),\n",
       " Team(Bernouli Ballers),\n",
       " Team(Neural Nets),\n",
       " Team(Provo MGFs),\n",
       " Team(Sacrament Kings),\n",
       " Team(ONTHA CAUCHY),\n",
       " Team(DeMorgan's Daggers),\n",
       " Team(Orem Octopi)]"
      ]
     },
     "execution_count": 4,
     "metadata": {},
     "output_type": "execute_result"
    }
   ],
   "source": [
    "league.teams"
   ]
  },
  {
   "cell_type": "code",
   "execution_count": 5,
   "metadata": {},
   "outputs": [],
   "source": [
    "team = league.teams[4]"
   ]
  },
  {
   "cell_type": "code",
   "execution_count": 6,
   "metadata": {},
   "outputs": [
    {
     "data": {
      "text/plain": [
       "[Player(Trae Young),\n",
       " Player(Fred VanVleet),\n",
       " Player(Deandre Ayton),\n",
       " Player(Miles Bridges),\n",
       " Player(Jonas Valanciunas),\n",
       " Player(Pascal Siakam),\n",
       " Player(Brandon Ingram),\n",
       " Player(Khris Middleton),\n",
       " Player(Jordan Poole),\n",
       " Player(Immanuel Quickley),\n",
       " Player(Obi Toppin),\n",
       " Player(Jaylen Hoard),\n",
       " Player(Ish Smith),\n",
       " Player(Isaiah Roby)]"
      ]
     },
     "execution_count": 6,
     "metadata": {},
     "output_type": "execute_result"
    }
   ],
   "source": [
    "team.roster"
   ]
  },
  {
   "cell_type": "code",
   "execution_count": 7,
   "metadata": {},
   "outputs": [
    {
     "data": {
      "text/plain": [
       "15"
      ]
     },
     "execution_count": 7,
     "metadata": {},
     "output_type": "execute_result"
    }
   ],
   "source": [
    "team.wins"
   ]
  },
  {
   "cell_type": "code",
   "execution_count": 8,
   "metadata": {},
   "outputs": [
    {
     "data": {
      "text/plain": [
       "5"
      ]
     },
     "execution_count": 8,
     "metadata": {},
     "output_type": "execute_result"
    }
   ],
   "source": [
    "team.losses"
   ]
  },
  {
   "cell_type": "code",
   "execution_count": 9,
   "metadata": {},
   "outputs": [
    {
     "data": {
      "text/plain": [
       "2"
      ]
     },
     "execution_count": 9,
     "metadata": {},
     "output_type": "execute_result"
    }
   ],
   "source": [
    "team.final_standing"
   ]
  },
  {
   "cell_type": "code",
   "execution_count": 10,
   "metadata": {},
   "outputs": [
    {
     "data": {
      "text/plain": [
       "'Sacrament Kings'"
      ]
     },
     "execution_count": 10,
     "metadata": {},
     "output_type": "execute_result"
    }
   ],
   "source": [
    "team.team_name"
   ]
  },
  {
   "cell_type": "code",
   "execution_count": 11,
   "metadata": {},
   "outputs": [],
   "source": [
    "player = team.roster[1]"
   ]
  },
  {
   "cell_type": "code",
   "execution_count": 12,
   "metadata": {},
   "outputs": [
    {
     "data": {
      "text/plain": [
       "Player(Fred VanVleet)"
      ]
     },
     "execution_count": 12,
     "metadata": {},
     "output_type": "execute_result"
    }
   ],
   "source": [
    "player"
   ]
  },
  {
   "cell_type": "code",
   "execution_count": 13,
   "metadata": {},
   "outputs": [
    {
     "data": {
      "text/plain": [
       "'Fred VanVleet'"
      ]
     },
     "execution_count": 13,
     "metadata": {},
     "output_type": "execute_result"
    }
   ],
   "source": [
    "player.name"
   ]
  },
  {
   "cell_type": "code",
   "execution_count": 14,
   "metadata": {},
   "outputs": [
    {
     "data": {
      "text/plain": [
       "2991230"
      ]
     },
     "execution_count": 14,
     "metadata": {},
     "output_type": "execute_result"
    }
   ],
   "source": [
    "player.playerId"
   ]
  },
  {
   "cell_type": "code",
   "execution_count": 15,
   "metadata": {},
   "outputs": [
    {
     "data": {
      "text/plain": [
       "'SG'"
      ]
     },
     "execution_count": 15,
     "metadata": {},
     "output_type": "execute_result"
    }
   ],
   "source": [
    "player.position"
   ]
  },
  {
   "cell_type": "code",
   "execution_count": 16,
   "metadata": {},
   "outputs": [
    {
     "data": {
      "text/plain": [
       "'TOR'"
      ]
     },
     "execution_count": 16,
     "metadata": {},
     "output_type": "execute_result"
    }
   ],
   "source": [
    "player.proTeam"
   ]
  },
  {
   "cell_type": "code",
   "execution_count": 17,
   "metadata": {},
   "outputs": [
    {
     "data": {
      "text/plain": [
       "['SG', 'G', 'SG/SF', 'G/F', 'UT', 'BE', 'IR', 'PG']"
      ]
     },
     "execution_count": 17,
     "metadata": {},
     "output_type": "execute_result"
    }
   ],
   "source": [
    "player.eligibleSlots"
   ]
  },
  {
   "cell_type": "code",
   "execution_count": 18,
   "metadata": {},
   "outputs": [
    {
     "data": {
      "text/plain": [
       "'DRAFT'"
      ]
     },
     "execution_count": 18,
     "metadata": {},
     "output_type": "execute_result"
    }
   ],
   "source": [
    "player.acquisitionType"
   ]
  },
  {
   "cell_type": "code",
   "execution_count": 19,
   "metadata": {},
   "outputs": [
    {
     "data": {
      "text/plain": [
       "[Player(Giannis Antetokounmpo),\n",
       " Player(Nikola Vucevic),\n",
       " Player(Anthony Davis),\n",
       " Player(D'Angelo Russell),\n",
       " Player(Jakob Poeltl),\n",
       " Player(Domantas Sabonis),\n",
       " Player(RJ Barrett),\n",
       " Player(Derrick White),\n",
       " Player(Shai Gilgeous-Alexander),\n",
       " Player(Lonzo Ball)]"
      ]
     },
     "execution_count": 19,
     "metadata": {},
     "output_type": "execute_result"
    }
   ],
   "source": [
    "league.free_agents(size=10)"
   ]
  },
  {
   "cell_type": "code",
   "execution_count": 20,
   "metadata": {},
   "outputs": [
    {
     "data": {
      "text/plain": [
       "[Player(Giannis Antetokounmpo),\n",
       " Player(Anthony Davis),\n",
       " Player(Domantas Sabonis),\n",
       " Player(Bobby Portis),\n",
       " Player(Kyle Kuzma)]"
      ]
     },
     "execution_count": 20,
     "metadata": {},
     "output_type": "execute_result"
    }
   ],
   "source": [
    "league.free_agents(size=5,position='PF')"
   ]
  },
  {
   "cell_type": "code",
   "execution_count": 21,
   "metadata": {},
   "outputs": [
    {
     "data": {
      "text/plain": [
       "[Player(Giannis Antetokounmpo),\n",
       " Player(Nikola Vucevic),\n",
       " Player(Anthony Davis),\n",
       " Player(D'Angelo Russell),\n",
       " Player(Jakob Poeltl),\n",
       " Player(Domantas Sabonis),\n",
       " Player(RJ Barrett),\n",
       " Player(Derrick White),\n",
       " Player(Shai Gilgeous-Alexander),\n",
       " Player(Lonzo Ball),\n",
       " Player(Bobby Portis),\n",
       " Player(Reggie Jackson),\n",
       " Player(Malcolm Brogdon),\n",
       " Player(Kyle Kuzma),\n",
       " Player(Robert Williams III),\n",
       " Player(P.J. Washington),\n",
       " Player(Jarrett Allen),\n",
       " Player(John Collins),\n",
       " Player(Devonte' Graham),\n",
       " Player(Ivica Zubac),\n",
       " Player(Ben Simmons),\n",
       " Player(Bradley Beal),\n",
       " Player(Robert Covington),\n",
       " Player(Isaiah Stewart),\n",
       " Player(Will Barton),\n",
       " Player(Mo Bamba),\n",
       " Player(Chris Boucher),\n",
       " Player(Bojan Bogdanovic),\n",
       " Player(Evan Fournier),\n",
       " Player(Kelly Oubre Jr.),\n",
       " Player(Jalen Suggs),\n",
       " Player(Nickeil Alexander-Walker),\n",
       " Player(Kemba Walker),\n",
       " Player(Richaun Holmes),\n",
       " Player(Lauri Markkanen),\n",
       " Player(Michael Porter Jr.),\n",
       " Player(Eric Bledsoe),\n",
       " Player(Marvin Bagley III),\n",
       " Player(Tim Hardaway Jr.),\n",
       " Player(Collin Sexton),\n",
       " Player(Thaddeus Young),\n",
       " Player(Brook Lopez),\n",
       " Player(Donte DiVincenzo),\n",
       " Player(Brandon Clarke),\n",
       " Player(Killian Hayes),\n",
       " Player(Daniel Theis),\n",
       " Player(Joe Ingles),\n",
       " Player(Jonathan Isaac),\n",
       " Player(Drew Eubanks),\n",
       " Player(Dillon Brooks)]"
      ]
     },
     "execution_count": 21,
     "metadata": {},
     "output_type": "execute_result"
    }
   ],
   "source": [
    "league.free_agents()"
   ]
  },
  {
   "cell_type": "code",
   "execution_count": 29,
   "metadata": {},
   "outputs": [],
   "source": [
    "box = league.box_scores() "
   ]
  },
  {
   "cell_type": "code",
   "execution_count": 30,
   "metadata": {},
   "outputs": [
    {
     "data": {
      "text/plain": [
       "Team(Sacrament Kings)"
      ]
     },
     "execution_count": 30,
     "metadata": {},
     "output_type": "execute_result"
    }
   ],
   "source": [
    "box[0].home_team"
   ]
  },
  {
   "cell_type": "code",
   "execution_count": 31,
   "metadata": {},
   "outputs": [
    {
     "data": {
      "text/plain": [
       "Team(ONTHA CAUCHY)"
      ]
     },
     "execution_count": 31,
     "metadata": {},
     "output_type": "execute_result"
    }
   ],
   "source": [
    "box[0].away_team"
   ]
  },
  {
   "cell_type": "code",
   "execution_count": 32,
   "metadata": {},
   "outputs": [
    {
     "data": {
      "text/plain": [
       "2887.0"
      ]
     },
     "execution_count": 32,
     "metadata": {},
     "output_type": "execute_result"
    }
   ],
   "source": [
    "box[0].home_score"
   ]
  },
  {
   "cell_type": "code",
   "execution_count": 33,
   "metadata": {},
   "outputs": [
    {
     "data": {
      "text/plain": [
       "2924.0"
      ]
     },
     "execution_count": 33,
     "metadata": {},
     "output_type": "execute_result"
    }
   ],
   "source": [
    "box[0].away_score "
   ]
  },
  {
   "cell_type": "code",
   "execution_count": 34,
   "metadata": {},
   "outputs": [
    {
     "data": {
      "text/plain": [
       "[Player(Damian Jones, points:22.0),\n",
       " Player(Brandon Ingram, points:134.0),\n",
       " Player(Jordan Poole, points:227.0),\n",
       " Player(Isaiah Roby, points:43.0),\n",
       " Player(Tyus Jones, points:19.0),\n",
       " Player(Jaylen Hoard, points:60.0),\n",
       " Player(Jonas Valanciunas, points:132.0),\n",
       " Player(Immanuel Quickley, points:57.0),\n",
       " Player(Deandre Ayton, points:84.0),\n",
       " Player(Trae Young, points:364.0),\n",
       " Player(Ish Smith, points:19.0),\n",
       " Player(Khris Middleton, points:226.0),\n",
       " Player(Miles Bridges, points:227.0),\n",
       " Player(Obi Toppin, points:57.0),\n",
       " Player(Jakob Poeltl, points:176.0),\n",
       " Player(Fred VanVleet, points:201.0),\n",
       " Player(Anthony Davis, points:151.0),\n",
       " Player(Bruce Brown, points:77.0),\n",
       " Player(Pascal Siakam, points:394.0),\n",
       " Player(De'Anthony Melton, points:29.0),\n",
       " Player(Kevin Huerter, points:42.0),\n",
       " Player(Alec Burks, points:16.0),\n",
       " Player(Marcus Smart, points:130.0)]"
      ]
     },
     "execution_count": 34,
     "metadata": {},
     "output_type": "execute_result"
    }
   ],
   "source": [
    "box[0].home_lineup"
   ]
  },
  {
   "cell_type": "code",
   "execution_count": 36,
   "metadata": {},
   "outputs": [
    {
     "data": {
      "text/plain": [
       "[Player(Damian Jones, points:42.0),\n",
       " Player(Davion Mitchell, points:183.0),\n",
       " Player(D'Angelo Russell, points:94.0),\n",
       " Player(Tobias Harris, points:175.0),\n",
       " Player(Keldon Johnson, points:204.0),\n",
       " Player(Isaiah Jackson, points:19.0),\n",
       " Player(Tre Jones, points:26.0),\n",
       " Player(Kyrie Irving, points:327.0),\n",
       " Player(Nikola Vucevic, points:196.0),\n",
       " Player(Donovan Mitchell, points:189.0),\n",
       " Player(Dejounte Murray, points:161.0),\n",
       " Player(Saddiq Bey, points:134.0),\n",
       " Player(LaMelo Ball, points:332.0),\n",
       " Player(Drew Eubanks, points:166.0),\n",
       " Player(Kevin Porter Jr., points:335.0),\n",
       " Player(Giannis Antetokounmpo, points:341.0)]"
      ]
     },
     "execution_count": 36,
     "metadata": {},
     "output_type": "execute_result"
    }
   ],
   "source": [
    "box[0].away_lineup"
   ]
  },
  {
   "cell_type": "code",
   "execution_count": 38,
   "metadata": {},
   "outputs": [
    {
     "data": {
      "text/plain": [
       "22.0"
      ]
     },
     "execution_count": 38,
     "metadata": {},
     "output_type": "execute_result"
    }
   ],
   "source": [
    "box[0].home_lineup[0].points "
   ]
  },
  {
   "cell_type": "code",
   "execution_count": 39,
   "metadata": {},
   "outputs": [
    {
     "data": {
      "text/plain": [
       "{'FTA': -8.0,\n",
       " 'PTS': 17.0,\n",
       " '3PTM': 0.0,\n",
       " 'BLK': 0.0,\n",
       " 'STL': 0.0,\n",
       " 'AST': 4.0,\n",
       " 'REB': 6.0,\n",
       " 'TO': -4.0,\n",
       " 'FGM': 10.0,\n",
       " 'FGA': -10.0,\n",
       " 'FTM': 7.0}"
      ]
     },
     "execution_count": 39,
     "metadata": {},
     "output_type": "execute_result"
    }
   ],
   "source": [
    "box[0].home_lineup[0].points_breakdown"
   ]
  },
  {
   "cell_type": "code",
   "execution_count": 40,
   "metadata": {},
   "outputs": [
    {
     "data": {
      "text/plain": [
       "'PG'"
      ]
     },
     "execution_count": 40,
     "metadata": {},
     "output_type": "execute_result"
    }
   ],
   "source": [
    "box[0].home_lineup[0].slot_position "
   ]
  },
  {
   "cell_type": "code",
   "execution_count": 41,
   "metadata": {},
   "outputs": [
    {
     "data": {
      "text/plain": [
       "'Damian Jones'"
      ]
     },
     "execution_count": 41,
     "metadata": {},
     "output_type": "execute_result"
    }
   ],
   "source": [
    "box[0].home_lineup[0].name"
   ]
  },
  {
   "cell_type": "code",
   "execution_count": 4,
   "metadata": {},
   "outputs": [
    {
     "data": {
      "text/plain": [
       "[Matchup(Team(Sacrament Kings), Team(ONTHA CAUCHY)),\n",
       " Matchup(Team(DeMorgan's Daggers), Team(Neural Nets)),\n",
       " Matchup(Team(Orem Octopi), Team(Bernouli Ballers)),\n",
       " Matchup(Team(Conjugate Priors), Team(Provo MGFs))]"
      ]
     },
     "execution_count": 4,
     "metadata": {},
     "output_type": "execute_result"
    }
   ],
   "source": [
    "league.scoreboard()"
   ]
  },
  {
   "cell_type": "code",
   "execution_count": 5,
   "metadata": {},
   "outputs": [],
   "source": [
    "week = 3\n",
    "matchups = league.scoreboard(week)"
   ]
  },
  {
   "cell_type": "code",
   "execution_count": 9,
   "metadata": {},
   "outputs": [
    {
     "data": {
      "text/plain": [
       "1517.0"
      ]
     },
     "execution_count": 9,
     "metadata": {},
     "output_type": "execute_result"
    }
   ],
   "source": [
    "matchups[0].home_final_score"
   ]
  },
  {
   "cell_type": "code",
   "execution_count": null,
   "metadata": {},
   "outputs": [],
   "source": [
    "matchups[0].away_final_score"
   ]
  },
  {
   "cell_type": "code",
   "execution_count": 13,
   "metadata": {},
   "outputs": [
    {
     "data": {
      "text/plain": [
       "Team(Sacrament Kings)"
      ]
     },
     "execution_count": 13,
     "metadata": {},
     "output_type": "execute_result"
    }
   ],
   "source": [
    "matchups[0].home_team"
   ]
  },
  {
   "cell_type": "code",
   "execution_count": 14,
   "metadata": {},
   "outputs": [
    {
     "data": {
      "text/plain": [
       "Team(Conjugate Priors)"
      ]
     },
     "execution_count": 14,
     "metadata": {},
     "output_type": "execute_result"
    }
   ],
   "source": [
    "matchups[0].away_team"
   ]
  },
  {
   "cell_type": "code",
   "execution_count": 12,
   "metadata": {},
   "outputs": [
    {
     "data": {
      "text/plain": [
       "{'PTS': {'score': 779.0, 'result': None},\n",
       " 'FTA': {'score': 160.0, 'result': None},\n",
       " 'BLK': {'score': 27.0, 'result': None},\n",
       " '3PTM': {'score': 73.0, 'result': None},\n",
       " 'STL': {'score': 41.0, 'result': None},\n",
       " 'AST': {'score': 203.0, 'result': None},\n",
       " 'REB': {'score': 309.0, 'result': None},\n",
       " 'GP': {'score': 41.0, 'result': None},\n",
       " 'TO': {'score': 108.0, 'result': None},\n",
       " 'FGM': {'score': 285.0, 'result': None},\n",
       " 'FGA': {'score': 652.0, 'result': None},\n",
       " 'FTM': {'score': 136.0, 'result': None}}"
      ]
     },
     "execution_count": 12,
     "metadata": {},
     "output_type": "execute_result"
    }
   ],
   "source": [
    "matchups[0].home_team_cats"
   ]
  },
  {
   "cell_type": "code",
   "execution_count": 15,
   "metadata": {},
   "outputs": [
    {
     "data": {
      "text/plain": [
       "{'PTS': {'score': 631.0, 'result': None},\n",
       " 'FTA': {'score': 110.0, 'result': None},\n",
       " 'BLK': {'score': 28.0, 'result': None},\n",
       " '3PTM': {'score': 63.0, 'result': None},\n",
       " 'STL': {'score': 47.0, 'result': None},\n",
       " 'AST': {'score': 155.0, 'result': None},\n",
       " 'REB': {'score': 247.0, 'result': None},\n",
       " 'GP': {'score': 38.0, 'result': None},\n",
       " 'TO': {'score': 75.0, 'result': None},\n",
       " 'FGM': {'score': 245.0, 'result': None},\n",
       " 'FGA': {'score': 547.0, 'result': None},\n",
       " 'FTM': {'score': 78.0, 'result': None}}"
      ]
     },
     "execution_count": 15,
     "metadata": {},
     "output_type": "execute_result"
    }
   ],
   "source": [
    "matchups[0].away_team_cats"
   ]
  },
  {
   "cell_type": "code",
   "execution_count": null,
   "metadata": {},
   "outputs": [],
   "source": []
  }
 ],
 "metadata": {
  "kernelspec": {
   "display_name": "Python 3 (ipykernel)",
   "language": "python",
   "name": "python3"
  },
  "language_info": {
   "codemirror_mode": {
    "name": "ipython",
    "version": 3
   },
   "file_extension": ".py",
   "mimetype": "text/x-python",
   "name": "python",
   "nbconvert_exporter": "python",
   "pygments_lexer": "ipython3",
   "version": "3.7.11"
  },
  "varInspector": {
   "cols": {
    "lenName": 16,
    "lenType": 16,
    "lenVar": 40
   },
   "kernels_config": {
    "python": {
     "delete_cmd_postfix": "",
     "delete_cmd_prefix": "del ",
     "library": "var_list.py",
     "varRefreshCmd": "print(var_dic_list())"
    },
    "r": {
     "delete_cmd_postfix": ") ",
     "delete_cmd_prefix": "rm(",
     "library": "var_list.r",
     "varRefreshCmd": "cat(var_dic_list()) "
    }
   },
   "types_to_exclude": [
    "module",
    "function",
    "builtin_function_or_method",
    "instance",
    "_Feature"
   ],
   "window_display": false
  },
  "vscode": {
   "interpreter": {
    "hash": "aee8b7b246df8f9039afb4144a1f6fd8d2ca17a180786b69acc140d282b71a49"
   }
  }
 },
 "nbformat": 4,
 "nbformat_minor": 2
}
