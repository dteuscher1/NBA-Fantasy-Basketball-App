{
 "cells": [
  {
   "cell_type": "code",
   "execution_count": 1,
   "metadata": {},
   "outputs": [],
   "source": [
    "from espn_api.basketball import League\n",
    "import pandas as pd"
   ]
  },
  {
   "cell_type": "code",
   "execution_count": null,
   "metadata": {},
   "outputs": [],
   "source": [
    "472202235"
   ]
  },
  {
   "cell_type": "code",
   "execution_count": 2,
   "metadata": {},
   "outputs": [],
   "source": [
    "league = League(\n",
    "    league_id=472202235, \n",
    "    year=2023, \n",
    "    espn_s2='AECp9XuBZGH3HTGTP%2BMUUC%2FSgd0rxpMTVvXbl095l7pGUCWXp0xaBCzarXtVlYy25OaKL7q8VIpxHFAjqxs%2B0%2F%2F1%2Fgn%2BsTwzeOzVfu3GR5e55SWlbEixnKkjNPz9S39pbJA7lZIC3nvJLwOzzN6NjV9PKbL%2FgqHaZ%2FmXpYinqeI8%2B%2Bq1OnosxRmocCuIdoUJ08FQ4emA%2FzTMC1b3L0nEUluDYO99txXr2HIkdmOX8KG7vkKu78nhrglU6QrQPnypdrZ2CE0a3MWRwvsCl7SLGx%2FeEzYsMevBMsJ8qP%2FWD7%2Fn8w%3D%3D', \n",
    "    swid='{44CA7430-5856-48E3-85D1-48995BF4D412}'\n",
    ")"
   ]
  },
  {
   "cell_type": "code",
   "execution_count": 3,
   "metadata": {},
   "outputs": [
    {
     "data": {
      "text/plain": [
       "[Team(Tank Commanders),\n",
       " Team(Neural Nets),\n",
       " Team(Autodraft All-Stars),\n",
       " Team(Orem Octopi),\n",
       " Team(Team Hanson),\n",
       " Team(Team Bayesian Baller),\n",
       " Team(Conjugate Priors),\n",
       " Team(Principal Components),\n",
       " Team(Deez Data),\n",
       " Team(Team Shah)]"
      ]
     },
     "execution_count": 3,
     "metadata": {},
     "output_type": "execute_result"
    }
   ],
   "source": [
    "league.teams"
   ]
  },
  {
   "cell_type": "code",
   "execution_count": 4,
   "metadata": {},
   "outputs": [],
   "source": [
    "free_agents = league.free_agents(size = 10000)"
   ]
  },
  {
   "cell_type": "code",
   "execution_count": 5,
   "metadata": {},
   "outputs": [
    {
     "data": {
      "text/plain": [
       "list"
      ]
     },
     "execution_count": 5,
     "metadata": {},
     "output_type": "execute_result"
    }
   ],
   "source": [
    "type(league.teams)"
   ]
  },
  {
   "cell_type": "code",
   "execution_count": 19,
   "metadata": {},
   "outputs": [],
   "source": [
    "players = []\n",
    "teams = []\n",
    "for i in range(len(league.teams)):\n",
    "    team = league.teams[i].team_name\n",
    "    roster = league.teams[i].roster\n",
    "    for j in range(len(roster)):\n",
    "        players.append([roster[j].name, roster[j].proTeam, team])\n",
    "        teams.append(team)\n",
    "fa_info = []\n",
    "for i in range(len(free_agents)):\n",
    "    fa_info.append([free_agents[i].name, free_agents[i].proTeam, 'Free Agent'])"
   ]
  },
  {
   "cell_type": "code",
   "execution_count": 20,
   "metadata": {},
   "outputs": [],
   "source": [
    "player_teams = pd.DataFrame(players, columns = ['Player_Name', 'NBA Team','Team'])\n",
    "fa_players = pd.DataFrame(fa_info, columns = ['Player_Name', 'NBA Team', 'Team'])\n",
    "all_players = pd.concat([player_teams, fa_players])"
   ]
  },
  {
   "cell_type": "code",
   "execution_count": 21,
   "metadata": {},
   "outputs": [
    {
     "data": {
      "text/html": [
       "<div>\n",
       "<style scoped>\n",
       "    .dataframe tbody tr th:only-of-type {\n",
       "        vertical-align: middle;\n",
       "    }\n",
       "\n",
       "    .dataframe tbody tr th {\n",
       "        vertical-align: top;\n",
       "    }\n",
       "\n",
       "    .dataframe thead th {\n",
       "        text-align: right;\n",
       "    }\n",
       "</style>\n",
       "<table border=\"1\" class=\"dataframe\">\n",
       "  <thead>\n",
       "    <tr style=\"text-align: right;\">\n",
       "      <th></th>\n",
       "      <th>Player_Name</th>\n",
       "      <th>NBA Team</th>\n",
       "      <th>Team</th>\n",
       "    </tr>\n",
       "  </thead>\n",
       "  <tbody>\n",
       "    <tr>\n",
       "      <th>0</th>\n",
       "      <td>Nikola Jokic</td>\n",
       "      <td>DEN</td>\n",
       "      <td>Tank Commanders</td>\n",
       "    </tr>\n",
       "    <tr>\n",
       "      <th>1</th>\n",
       "      <td>Dejounte Murray</td>\n",
       "      <td>ATL</td>\n",
       "      <td>Tank Commanders</td>\n",
       "    </tr>\n",
       "    <tr>\n",
       "      <th>2</th>\n",
       "      <td>Bam Adebayo</td>\n",
       "      <td>MIA</td>\n",
       "      <td>Tank Commanders</td>\n",
       "    </tr>\n",
       "    <tr>\n",
       "      <th>3</th>\n",
       "      <td>Bradley Beal</td>\n",
       "      <td>WAS</td>\n",
       "      <td>Tank Commanders</td>\n",
       "    </tr>\n",
       "    <tr>\n",
       "      <th>4</th>\n",
       "      <td>Darius Garland</td>\n",
       "      <td>CLE</td>\n",
       "      <td>Tank Commanders</td>\n",
       "    </tr>\n",
       "  </tbody>\n",
       "</table>\n",
       "</div>"
      ],
      "text/plain": [
       "       Player_Name NBA Team             Team\n",
       "0     Nikola Jokic      DEN  Tank Commanders\n",
       "1  Dejounte Murray      ATL  Tank Commanders\n",
       "2      Bam Adebayo      MIA  Tank Commanders\n",
       "3     Bradley Beal      WAS  Tank Commanders\n",
       "4   Darius Garland      CLE  Tank Commanders"
      ]
     },
     "execution_count": 21,
     "metadata": {},
     "output_type": "execute_result"
    }
   ],
   "source": [
    "all_players.head()"
   ]
  },
  {
   "cell_type": "code",
   "execution_count": 9,
   "metadata": {},
   "outputs": [
    {
     "data": {
      "text/html": [
       "<div>\n",
       "<style scoped>\n",
       "    .dataframe tbody tr th:only-of-type {\n",
       "        vertical-align: middle;\n",
       "    }\n",
       "\n",
       "    .dataframe tbody tr th {\n",
       "        vertical-align: top;\n",
       "    }\n",
       "\n",
       "    .dataframe thead th {\n",
       "        text-align: right;\n",
       "    }\n",
       "</style>\n",
       "<table border=\"1\" class=\"dataframe\">\n",
       "  <thead>\n",
       "    <tr style=\"text-align: right;\">\n",
       "      <th></th>\n",
       "      <th>Player_Name</th>\n",
       "      <th>Team</th>\n",
       "    </tr>\n",
       "  </thead>\n",
       "  <tbody>\n",
       "    <tr>\n",
       "      <th>845</th>\n",
       "      <td>Brandon Sampson</td>\n",
       "      <td>Free Agent</td>\n",
       "    </tr>\n",
       "    <tr>\n",
       "      <th>846</th>\n",
       "      <td>Mychal Mulder</td>\n",
       "      <td>Free Agent</td>\n",
       "    </tr>\n",
       "    <tr>\n",
       "      <th>847</th>\n",
       "      <td>Gian Clavell</td>\n",
       "      <td>Free Agent</td>\n",
       "    </tr>\n",
       "    <tr>\n",
       "      <th>848</th>\n",
       "      <td>Marcus Eriksson</td>\n",
       "      <td>Free Agent</td>\n",
       "    </tr>\n",
       "    <tr>\n",
       "      <th>849</th>\n",
       "      <td>Nicolas Brussino</td>\n",
       "      <td>Free Agent</td>\n",
       "    </tr>\n",
       "  </tbody>\n",
       "</table>\n",
       "</div>"
      ],
      "text/plain": [
       "          Player_Name        Team\n",
       "845   Brandon Sampson  Free Agent\n",
       "846     Mychal Mulder  Free Agent\n",
       "847      Gian Clavell  Free Agent\n",
       "848   Marcus Eriksson  Free Agent\n",
       "849  Nicolas Brussino  Free Agent"
      ]
     },
     "execution_count": 9,
     "metadata": {},
     "output_type": "execute_result"
    }
   ],
   "source": [
    "all_players.tail()"
   ]
  },
  {
   "cell_type": "code",
   "execution_count": 10,
   "metadata": {},
   "outputs": [
    {
     "data": {
      "text/plain": [
       "850"
      ]
     },
     "execution_count": 10,
     "metadata": {},
     "output_type": "execute_result"
    }
   ],
   "source": [
    "len(fa_players)"
   ]
  },
  {
   "cell_type": "code",
   "execution_count": 11,
   "metadata": {},
   "outputs": [
    {
     "data": {
      "text/plain": [
       "(975, 2)"
      ]
     },
     "execution_count": 11,
     "metadata": {},
     "output_type": "execute_result"
    }
   ],
   "source": [
    "all_players.shape"
   ]
  },
  {
   "cell_type": "code",
   "execution_count": 17,
   "metadata": {},
   "outputs": [
    {
     "data": {
      "text/html": [
       "<div>\n",
       "<style scoped>\n",
       "    .dataframe tbody tr th:only-of-type {\n",
       "        vertical-align: middle;\n",
       "    }\n",
       "\n",
       "    .dataframe tbody tr th {\n",
       "        vertical-align: top;\n",
       "    }\n",
       "\n",
       "    .dataframe thead th {\n",
       "        text-align: right;\n",
       "    }\n",
       "</style>\n",
       "<table border=\"1\" class=\"dataframe\">\n",
       "  <thead>\n",
       "    <tr style=\"text-align: right;\">\n",
       "      <th></th>\n",
       "      <th>Player_Name</th>\n",
       "      <th>Team</th>\n",
       "    </tr>\n",
       "  </thead>\n",
       "  <tbody>\n",
       "    <tr>\n",
       "      <th>0</th>\n",
       "      <td>RJ Barrett</td>\n",
       "      <td>Free Agent</td>\n",
       "    </tr>\n",
       "    <tr>\n",
       "      <th>1</th>\n",
       "      <td>Saddiq Bey</td>\n",
       "      <td>Free Agent</td>\n",
       "    </tr>\n",
       "    <tr>\n",
       "      <th>2</th>\n",
       "      <td>Jaden Ivey</td>\n",
       "      <td>Free Agent</td>\n",
       "    </tr>\n",
       "    <tr>\n",
       "      <th>3</th>\n",
       "      <td>Collin Sexton</td>\n",
       "      <td>Free Agent</td>\n",
       "    </tr>\n",
       "    <tr>\n",
       "      <th>4</th>\n",
       "      <td>Harrison Barnes</td>\n",
       "      <td>Free Agent</td>\n",
       "    </tr>\n",
       "    <tr>\n",
       "      <th>...</th>\n",
       "      <td>...</td>\n",
       "      <td>...</td>\n",
       "    </tr>\n",
       "    <tr>\n",
       "      <th>845</th>\n",
       "      <td>Brandon Sampson</td>\n",
       "      <td>Free Agent</td>\n",
       "    </tr>\n",
       "    <tr>\n",
       "      <th>846</th>\n",
       "      <td>Mychal Mulder</td>\n",
       "      <td>Free Agent</td>\n",
       "    </tr>\n",
       "    <tr>\n",
       "      <th>847</th>\n",
       "      <td>Gian Clavell</td>\n",
       "      <td>Free Agent</td>\n",
       "    </tr>\n",
       "    <tr>\n",
       "      <th>848</th>\n",
       "      <td>Marcus Eriksson</td>\n",
       "      <td>Free Agent</td>\n",
       "    </tr>\n",
       "    <tr>\n",
       "      <th>849</th>\n",
       "      <td>Nicolas Brussino</td>\n",
       "      <td>Free Agent</td>\n",
       "    </tr>\n",
       "  </tbody>\n",
       "</table>\n",
       "<p>850 rows × 2 columns</p>\n",
       "</div>"
      ],
      "text/plain": [
       "          Player_Name        Team\n",
       "0          RJ Barrett  Free Agent\n",
       "1          Saddiq Bey  Free Agent\n",
       "2          Jaden Ivey  Free Agent\n",
       "3       Collin Sexton  Free Agent\n",
       "4     Harrison Barnes  Free Agent\n",
       "..                ...         ...\n",
       "845   Brandon Sampson  Free Agent\n",
       "846     Mychal Mulder  Free Agent\n",
       "847      Gian Clavell  Free Agent\n",
       "848   Marcus Eriksson  Free Agent\n",
       "849  Nicolas Brussino  Free Agent\n",
       "\n",
       "[850 rows x 2 columns]"
      ]
     },
     "execution_count": 17,
     "metadata": {},
     "output_type": "execute_result"
    }
   ],
   "source": [
    "fa_players"
   ]
  },
  {
   "cell_type": "code",
   "execution_count": null,
   "metadata": {},
   "outputs": [],
   "source": []
  }
 ],
 "metadata": {
  "kernelspec": {
   "display_name": "Python 3 (ipykernel)",
   "language": "python",
   "name": "python3"
  },
  "language_info": {
   "codemirror_mode": {
    "name": "ipython",
    "version": 3
   },
   "file_extension": ".py",
   "mimetype": "text/x-python",
   "name": "python",
   "nbconvert_exporter": "python",
   "pygments_lexer": "ipython3",
   "version": "3.7.11"
  },
  "varInspector": {
   "cols": {
    "lenName": 16,
    "lenType": 16,
    "lenVar": 40
   },
   "kernels_config": {
    "python": {
     "delete_cmd_postfix": "",
     "delete_cmd_prefix": "del ",
     "library": "var_list.py",
     "varRefreshCmd": "print(var_dic_list())"
    },
    "r": {
     "delete_cmd_postfix": ") ",
     "delete_cmd_prefix": "rm(",
     "library": "var_list.r",
     "varRefreshCmd": "cat(var_dic_list()) "
    }
   },
   "types_to_exclude": [
    "module",
    "function",
    "builtin_function_or_method",
    "instance",
    "_Feature"
   ],
   "window_display": false
  }
 },
 "nbformat": 4,
 "nbformat_minor": 2
}
