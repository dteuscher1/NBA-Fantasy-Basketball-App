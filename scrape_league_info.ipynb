{
 "cells": [
  {
   "cell_type": "code",
   "execution_count": 1,
   "metadata": {},
   "outputs": [],
   "source": [
    "from espn_api.basketball import League\n",
    "import pandas as pd"
   ]
  },
  {
   "cell_type": "code",
   "execution_count": 12,
   "metadata": {},
   "outputs": [],
   "source": [
    "league = League(\n",
    "    league_id=1046453757, \n",
    "    year=2024, \n",
    "    espn_s2='AECu6vwVPxzXR7n39VJt0W3nC293dSyQZNDI1TLwUKzgWi9h%2FA80yl6NR9N%2BtTUxE3Svkd7UXeFpYkZHQWruYphpyAq%2FJ7xzKbw3lYIRez4cgn7JfBwjfwwRVndo2KbvntXQYqZOXZ5rT%2F3qSAIvdmP%2FlSw%2Bh%2F78nrxmWSrcNUCNta8KwZsz22Vg0QgmeH84zNAf36YjhjOaVVXnN0qdq9rPWe9aE7U7TVuac7KD0jWwAasJ8VnyVJ%2FAR2AT20LFDNVEFmB4ev9UHYPIA5o2t2M8qnW8ak%2BKHsi61gGSPzR6%2Bw%3D%3D', \n",
    "    swid='{BB5A4BBF-E87B-40A9-8E5A-B5C29AC5DE67}'\n",
    ")\t\t\t"
   ]
  },
  {
   "cell_type": "code",
   "execution_count": 3,
   "metadata": {},
   "outputs": [],
   "source": [
    "old_league = League(\n",
    "    league_id=472202235, \n",
    "    year=2023, \n",
    "    espn_s2='AECp9XuBZGH3HTGTP%2BMUUC%2FSgd0rxpMTVvXbl095l7pGUCWXp0xaBCzarXtVlYy25OaKL7q8VIpxHFAjqxs%2B0%2F%2F1%2Fgn%2BsTwzeOzVfu3GR5e55SWlbEixnKkjNPz9S39pbJA7lZIC3nvJLwOzzN6NjV9PKbL%2FgqHaZ%2FmXpYinqeI8%2B%2Bq1OnosxRmocCuIdoUJ08FQ4emA%2FzTMC1b3L0nEUluDYO99txXr2HIkdmOX8KG7vkKu78nhrglU6QrQPnypdrZ2CE0a3MWRwvsCl7SLGx%2FeEzYsMevBMsJ8qP%2FWD7%2Fn8w%3D%3D', \n",
    "    swid='{44CA7430-5856-48E3-85D1-48995BF4D412}'\n",
    ")"
   ]
  },
  {
   "cell_type": "code",
   "execution_count": 13,
   "metadata": {},
   "outputs": [
    {
     "data": {
      "text/plain": [
       "[Team(Joe Hablo Ingles),\n",
       " Team(Team Johnson),\n",
       " Team(The Gobert Trade Sucked),\n",
       " Team(One in a Markannen),\n",
       " Team(TotinosPizzaRolls),\n",
       " Team(Mamba Mentality),\n",
       " Team(Middy City),\n",
       " Team(BigBallahShotCallah),\n",
       " Team(PattyMcHunks),\n",
       " Team(We Talkin' About Practice),\n",
       " Team(Team Durrant),\n",
       " Team(World Champions)]"
      ]
     },
     "execution_count": 13,
     "metadata": {},
     "output_type": "execute_result"
    }
   ],
   "source": [
    "league.teams"
   ]
  },
  {
   "cell_type": "code",
   "execution_count": 14,
   "metadata": {},
   "outputs": [],
   "source": [
    "free_agents = league.free_agents(size = 10000)"
   ]
  },
  {
   "cell_type": "code",
   "execution_count": 15,
   "metadata": {},
   "outputs": [
    {
     "data": {
      "text/plain": [
       "list"
      ]
     },
     "execution_count": 15,
     "metadata": {},
     "output_type": "execute_result"
    }
   ],
   "source": [
    "type(league.teams)"
   ]
  },
  {
   "cell_type": "code",
   "execution_count": 16,
   "metadata": {},
   "outputs": [],
   "source": [
    "players = []\n",
    "teams = []\n",
    "for i in range(len(league.teams)):\n",
    "    team = league.teams[i].team_name\n",
    "    roster = league.teams[i].roster\n",
    "    for j in range(len(roster)):\n",
    "        players.append([roster[j].name, roster[j].proTeam, team])\n",
    "        teams.append(team)\n",
    "fa_info = []\n",
    "for i in range(len(free_agents)):\n",
    "    fa_info.append([free_agents[i].name, free_agents[i].proTeam, 'Free Agent'])"
   ]
  },
  {
   "cell_type": "code",
   "execution_count": 17,
   "metadata": {},
   "outputs": [],
   "source": [
    "player_teams = pd.DataFrame(players, columns = ['Player_Name', 'NBA Team','Team'])\n",
    "fa_players = pd.DataFrame(fa_info, columns = ['Player_Name', 'NBA Team', 'Team'])\n",
    "all_players = pd.concat([player_teams, fa_players])"
   ]
  },
  {
   "cell_type": "code",
   "execution_count": 18,
   "metadata": {},
   "outputs": [
    {
     "data": {
      "text/html": [
       "<div>\n",
       "<style scoped>\n",
       "    .dataframe tbody tr th:only-of-type {\n",
       "        vertical-align: middle;\n",
       "    }\n",
       "\n",
       "    .dataframe tbody tr th {\n",
       "        vertical-align: top;\n",
       "    }\n",
       "\n",
       "    .dataframe thead th {\n",
       "        text-align: right;\n",
       "    }\n",
       "</style>\n",
       "<table border=\"1\" class=\"dataframe\">\n",
       "  <thead>\n",
       "    <tr style=\"text-align: right;\">\n",
       "      <th></th>\n",
       "      <th>Player_Name</th>\n",
       "      <th>NBA Team</th>\n",
       "      <th>Team</th>\n",
       "    </tr>\n",
       "  </thead>\n",
       "  <tbody>\n",
       "    <tr>\n",
       "      <th>0</th>\n",
       "      <td>Giannis Antetokounmpo</td>\n",
       "      <td>MIL</td>\n",
       "      <td>Joe Hablo Ingles</td>\n",
       "    </tr>\n",
       "    <tr>\n",
       "      <th>1</th>\n",
       "      <td>DeMar DeRozan</td>\n",
       "      <td>CHI</td>\n",
       "      <td>Joe Hablo Ingles</td>\n",
       "    </tr>\n",
       "    <tr>\n",
       "      <th>2</th>\n",
       "      <td>Jalen Brunson</td>\n",
       "      <td>NYK</td>\n",
       "      <td>Joe Hablo Ingles</td>\n",
       "    </tr>\n",
       "    <tr>\n",
       "      <th>3</th>\n",
       "      <td>Josh Giddey</td>\n",
       "      <td>OKC</td>\n",
       "      <td>Joe Hablo Ingles</td>\n",
       "    </tr>\n",
       "    <tr>\n",
       "      <th>4</th>\n",
       "      <td>Paul George</td>\n",
       "      <td>LAC</td>\n",
       "      <td>Joe Hablo Ingles</td>\n",
       "    </tr>\n",
       "  </tbody>\n",
       "</table>\n",
       "</div>"
      ],
      "text/plain": [
       "             Player_Name NBA Team              Team\n",
       "0  Giannis Antetokounmpo      MIL  Joe Hablo Ingles\n",
       "1          DeMar DeRozan      CHI  Joe Hablo Ingles\n",
       "2          Jalen Brunson      NYK  Joe Hablo Ingles\n",
       "3            Josh Giddey      OKC  Joe Hablo Ingles\n",
       "4            Paul George      LAC  Joe Hablo Ingles"
      ]
     },
     "execution_count": 18,
     "metadata": {},
     "output_type": "execute_result"
    }
   ],
   "source": [
    "all_players.head()"
   ]
  },
  {
   "cell_type": "code",
   "execution_count": 19,
   "metadata": {},
   "outputs": [
    {
     "data": {
      "text/html": [
       "<div>\n",
       "<style scoped>\n",
       "    .dataframe tbody tr th:only-of-type {\n",
       "        vertical-align: middle;\n",
       "    }\n",
       "\n",
       "    .dataframe tbody tr th {\n",
       "        vertical-align: top;\n",
       "    }\n",
       "\n",
       "    .dataframe thead th {\n",
       "        text-align: right;\n",
       "    }\n",
       "</style>\n",
       "<table border=\"1\" class=\"dataframe\">\n",
       "  <thead>\n",
       "    <tr style=\"text-align: right;\">\n",
       "      <th></th>\n",
       "      <th>Player_Name</th>\n",
       "      <th>NBA Team</th>\n",
       "      <th>Team</th>\n",
       "    </tr>\n",
       "  </thead>\n",
       "  <tbody>\n",
       "    <tr>\n",
       "      <th>840</th>\n",
       "      <td>David Michineau</td>\n",
       "      <td>LAC</td>\n",
       "      <td>Free Agent</td>\n",
       "    </tr>\n",
       "    <tr>\n",
       "      <th>841</th>\n",
       "      <td>Brodric Thomas</td>\n",
       "      <td>LAC</td>\n",
       "      <td>Free Agent</td>\n",
       "    </tr>\n",
       "    <tr>\n",
       "      <th>842</th>\n",
       "      <td>Isaia Cordinier</td>\n",
       "      <td>ATL</td>\n",
       "      <td>Free Agent</td>\n",
       "    </tr>\n",
       "    <tr>\n",
       "      <th>843</th>\n",
       "      <td>Karim Mane</td>\n",
       "      <td>ORL</td>\n",
       "      <td>Free Agent</td>\n",
       "    </tr>\n",
       "    <tr>\n",
       "      <th>844</th>\n",
       "      <td>Jamel Artis</td>\n",
       "      <td>LAC</td>\n",
       "      <td>Free Agent</td>\n",
       "    </tr>\n",
       "  </tbody>\n",
       "</table>\n",
       "</div>"
      ],
      "text/plain": [
       "         Player_Name NBA Team        Team\n",
       "840  David Michineau      LAC  Free Agent\n",
       "841   Brodric Thomas      LAC  Free Agent\n",
       "842  Isaia Cordinier      ATL  Free Agent\n",
       "843       Karim Mane      ORL  Free Agent\n",
       "844      Jamel Artis      LAC  Free Agent"
      ]
     },
     "execution_count": 19,
     "metadata": {},
     "output_type": "execute_result"
    }
   ],
   "source": [
    "all_players.tail()"
   ]
  },
  {
   "cell_type": "code",
   "execution_count": 20,
   "metadata": {},
   "outputs": [
    {
     "data": {
      "text/plain": [
       "845"
      ]
     },
     "execution_count": 20,
     "metadata": {},
     "output_type": "execute_result"
    }
   ],
   "source": [
    "len(fa_players)"
   ]
  },
  {
   "cell_type": "code",
   "execution_count": 21,
   "metadata": {},
   "outputs": [
    {
     "data": {
      "text/plain": [
       "(1011, 3)"
      ]
     },
     "execution_count": 21,
     "metadata": {},
     "output_type": "execute_result"
    }
   ],
   "source": [
    "all_players.shape"
   ]
  },
  {
   "cell_type": "code",
   "execution_count": 22,
   "metadata": {},
   "outputs": [
    {
     "data": {
      "text/html": [
       "<div>\n",
       "<style scoped>\n",
       "    .dataframe tbody tr th:only-of-type {\n",
       "        vertical-align: middle;\n",
       "    }\n",
       "\n",
       "    .dataframe tbody tr th {\n",
       "        vertical-align: top;\n",
       "    }\n",
       "\n",
       "    .dataframe thead th {\n",
       "        text-align: right;\n",
       "    }\n",
       "</style>\n",
       "<table border=\"1\" class=\"dataframe\">\n",
       "  <thead>\n",
       "    <tr style=\"text-align: right;\">\n",
       "      <th></th>\n",
       "      <th>Player_Name</th>\n",
       "      <th>NBA Team</th>\n",
       "      <th>Team</th>\n",
       "    </tr>\n",
       "  </thead>\n",
       "  <tbody>\n",
       "    <tr>\n",
       "      <th>0</th>\n",
       "      <td>Andrew Wiggins</td>\n",
       "      <td>GSW</td>\n",
       "      <td>Free Agent</td>\n",
       "    </tr>\n",
       "    <tr>\n",
       "      <th>1</th>\n",
       "      <td>Tre Jones</td>\n",
       "      <td>SAS</td>\n",
       "      <td>Free Agent</td>\n",
       "    </tr>\n",
       "    <tr>\n",
       "      <th>2</th>\n",
       "      <td>Zach Collins</td>\n",
       "      <td>SAS</td>\n",
       "      <td>Free Agent</td>\n",
       "    </tr>\n",
       "    <tr>\n",
       "      <th>3</th>\n",
       "      <td>Jaden Ivey</td>\n",
       "      <td>DET</td>\n",
       "      <td>Free Agent</td>\n",
       "    </tr>\n",
       "    <tr>\n",
       "      <th>4</th>\n",
       "      <td>Harrison Barnes</td>\n",
       "      <td>SAC</td>\n",
       "      <td>Free Agent</td>\n",
       "    </tr>\n",
       "    <tr>\n",
       "      <th>...</th>\n",
       "      <td>...</td>\n",
       "      <td>...</td>\n",
       "      <td>...</td>\n",
       "    </tr>\n",
       "    <tr>\n",
       "      <th>840</th>\n",
       "      <td>David Michineau</td>\n",
       "      <td>LAC</td>\n",
       "      <td>Free Agent</td>\n",
       "    </tr>\n",
       "    <tr>\n",
       "      <th>841</th>\n",
       "      <td>Brodric Thomas</td>\n",
       "      <td>LAC</td>\n",
       "      <td>Free Agent</td>\n",
       "    </tr>\n",
       "    <tr>\n",
       "      <th>842</th>\n",
       "      <td>Isaia Cordinier</td>\n",
       "      <td>ATL</td>\n",
       "      <td>Free Agent</td>\n",
       "    </tr>\n",
       "    <tr>\n",
       "      <th>843</th>\n",
       "      <td>Karim Mane</td>\n",
       "      <td>ORL</td>\n",
       "      <td>Free Agent</td>\n",
       "    </tr>\n",
       "    <tr>\n",
       "      <th>844</th>\n",
       "      <td>Jamel Artis</td>\n",
       "      <td>LAC</td>\n",
       "      <td>Free Agent</td>\n",
       "    </tr>\n",
       "  </tbody>\n",
       "</table>\n",
       "<p>845 rows × 3 columns</p>\n",
       "</div>"
      ],
      "text/plain": [
       "         Player_Name NBA Team        Team\n",
       "0     Andrew Wiggins      GSW  Free Agent\n",
       "1          Tre Jones      SAS  Free Agent\n",
       "2       Zach Collins      SAS  Free Agent\n",
       "3         Jaden Ivey      DET  Free Agent\n",
       "4    Harrison Barnes      SAC  Free Agent\n",
       "..               ...      ...         ...\n",
       "840  David Michineau      LAC  Free Agent\n",
       "841   Brodric Thomas      LAC  Free Agent\n",
       "842  Isaia Cordinier      ATL  Free Agent\n",
       "843       Karim Mane      ORL  Free Agent\n",
       "844      Jamel Artis      LAC  Free Agent\n",
       "\n",
       "[845 rows x 3 columns]"
      ]
     },
     "execution_count": 22,
     "metadata": {},
     "output_type": "execute_result"
    }
   ],
   "source": [
    "fa_players"
   ]
  },
  {
   "cell_type": "code",
   "execution_count": null,
   "metadata": {},
   "outputs": [],
   "source": []
  }
 ],
 "metadata": {
  "kernelspec": {
   "display_name": "Python 3 (ipykernel)",
   "language": "python",
   "name": "python3"
  },
  "language_info": {
   "codemirror_mode": {
    "name": "ipython",
    "version": 3
   },
   "file_extension": ".py",
   "mimetype": "text/x-python",
   "name": "python",
   "nbconvert_exporter": "python",
   "pygments_lexer": "ipython3",
   "version": "3.11.6"
  },
  "varInspector": {
   "cols": {
    "lenName": 16,
    "lenType": 16,
    "lenVar": 40
   },
   "kernels_config": {
    "python": {
     "delete_cmd_postfix": "",
     "delete_cmd_prefix": "del ",
     "library": "var_list.py",
     "varRefreshCmd": "print(var_dic_list())"
    },
    "r": {
     "delete_cmd_postfix": ") ",
     "delete_cmd_prefix": "rm(",
     "library": "var_list.r",
     "varRefreshCmd": "cat(var_dic_list()) "
    }
   },
   "types_to_exclude": [
    "module",
    "function",
    "builtin_function_or_method",
    "instance",
    "_Feature"
   ],
   "window_display": false
  }
 },
 "nbformat": 4,
 "nbformat_minor": 2
}
